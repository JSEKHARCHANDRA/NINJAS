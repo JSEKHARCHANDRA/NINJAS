{
 "cells": [
  {
   "cell_type": "code",
   "execution_count": null,
   "id": "7cb32a7e",
   "metadata": {},
   "outputs": [],
   "source": []
  },
  {
   "cell_type": "markdown",
   "id": "616316d3",
   "metadata": {},
   "source": []
  },
  {
   "cell_type": "code",
   "execution_count": 1,
   "id": "18c33876",
   "metadata": {},
   "outputs": [
    {
     "name": "stdout",
     "output_type": "stream",
     "text": [
      "x:10\n",
      "n:2\n",
      "power(x,n) is: 100\n"
     ]
    }
   ],
   "source": [
    "#power(x,n)\n",
    "class py_pow:\n",
    "    def power(self,x,n):\n",
    "        if x == 0 or x == 1 or n == 1:\n",
    "            return x\n",
    "        if x == -1:\n",
    "            if n % 2 == 0:\n",
    "                return 1\n",
    "            else:\n",
    "                return -1\n",
    "        if n == 0:\n",
    "            return -1\n",
    "        if n < 0:\n",
    "            return 1 / self.power(x,-n)\n",
    "        val = self.power(x,n//2)\n",
    "        if n % 2 == 0:\n",
    "            return val * val\n",
    "        return val * val * x\n",
    "x = int(input(\"x:\"))\n",
    "n = int(input(\"n:\"))\n",
    "print(\"power(x,n) is:\",py_pow().power(x,n))"
   ]
  },
  {
   "cell_type": "code",
   "execution_count": null,
   "id": "e69ce087",
   "metadata": {},
   "outputs": [],
   "source": []
  },
  {
   "cell_type": "code",
   "execution_count": null,
   "id": "7e27b681",
   "metadata": {},
   "outputs": [],
   "source": []
  },
  {
   "cell_type": "code",
   "execution_count": null,
   "id": "da7fc73b",
   "metadata": {},
   "outputs": [],
   "source": []
  }
 ],
 "metadata": {
  "kernelspec": {
   "display_name": "Python 3 (ipykernel)",
   "language": "python",
   "name": "python3"
  },
  "language_info": {
   "codemirror_mode": {
    "name": "ipython",
    "version": 3
   },
   "file_extension": ".py",
   "mimetype": "text/x-python",
   "name": "python",
   "nbconvert_exporter": "python",
   "pygments_lexer": "ipython3",
   "version": "3.9.7"
  }
 },
 "nbformat": 4,
 "nbformat_minor": 5
}
